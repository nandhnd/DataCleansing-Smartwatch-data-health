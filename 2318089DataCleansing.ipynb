{
  "nbformat": 4,
  "nbformat_minor": 0,
  "metadata": {
    "colab": {
      "provenance": []
    },
    "kernelspec": {
      "name": "python3",
      "display_name": "Python 3"
    },
    "language_info": {
      "name": "python"
    }
  },
  "cells": [
    {
      "cell_type": "markdown",
      "source": [
        "##Import Library Dan Menghubungkan Ke Google Drive"
      ],
      "metadata": {
        "id": "L2Cq2WIb_946"
      }
    },
    {
      "cell_type": "code",
      "execution_count": 1059,
      "metadata": {
        "id": "6IntBT0hcI3g"
      },
      "outputs": [],
      "source": [
        "import pandas as pd"
      ]
    },
    {
      "cell_type": "code",
      "source": [
        "from google.colab import drive\n",
        "drive.mount('/content/drive')"
      ],
      "metadata": {
        "colab": {
          "base_uri": "https://localhost:8080/"
        },
        "id": "fkVQxGsxcWfm",
        "outputId": "2b086add-d8e8-432a-b3aa-31ca2c4a2074"
      },
      "execution_count": 1060,
      "outputs": [
        {
          "output_type": "stream",
          "name": "stdout",
          "text": [
            "Drive already mounted at /content/drive; to attempt to forcibly remount, call drive.mount(\"/content/drive\", force_remount=True).\n"
          ]
        }
      ]
    },
    {
      "cell_type": "markdown",
      "source": [
        "##Membaca Data"
      ],
      "metadata": {
        "id": "ExfR9UT6ALgw"
      }
    },
    {
      "cell_type": "code",
      "source": [
        "path = '/content/drive/MyDrive/Colab Notebooks/unclean_smartwatch_health_data.csv'\n",
        "data = pd.read_csv(path, low_memory=False)"
      ],
      "metadata": {
        "id": "FEY2UOU9crR5"
      },
      "execution_count": 1061,
      "outputs": []
    },
    {
      "cell_type": "code",
      "source": [
        "print(data)"
      ],
      "metadata": {
        "colab": {
          "base_uri": "https://localhost:8080/"
        },
        "id": "QT09h_7QAQZQ",
        "outputId": "768bd8a8-5ed3-454b-bdf6-63c501c92b58"
      },
      "execution_count": 1062,
      "outputs": [
        {
          "output_type": "stream",
          "name": "stdout",
          "text": [
            "      User ID  Heart Rate (BPM)  Blood Oxygen Level (%)    Step Count  \\\n",
            "0      4174.0         58.939776               98.809650   5450.390578   \n",
            "1         NaN               NaN               98.532195    727.601610   \n",
            "2      1860.0        247.803052               97.052954   2826.521994   \n",
            "3      2294.0         40.000000               96.894213  13797.338044   \n",
            "4      2130.0         61.950165               98.583797  15679.067648   \n",
            "...       ...               ...                     ...           ...   \n",
            "9995   1524.0         78.819386               98.931927   2948.491953   \n",
            "9996   4879.0         48.632659               95.773035   4725.623070   \n",
            "9997   2624.0         73.834442               97.945874   2571.492060   \n",
            "9998   4907.0               NaN               98.401058   3364.788855   \n",
            "9999   4113.0         70.063864               98.475606    544.696104   \n",
            "\n",
            "     Sleep Duration (hours) Activity Level Stress Level  \n",
            "0         7.167235622316564  Highly Active            1  \n",
            "1         6.538239375570314  Highly_Active            5  \n",
            "2                     ERROR  Highly Active            5  \n",
            "3         7.367789630207228          Actve            3  \n",
            "4                       NaN  Highly_Active            6  \n",
            "...                     ...            ...          ...  \n",
            "9995      7.402748595032027         Active            7  \n",
            "9996     6.3821659358529015      Sedentary            2  \n",
            "9997       6.91654920303435      Sedentary            4  \n",
            "9998      5.691233932149209         Active            8  \n",
            "9999      5.691001039740254          Actve            5  \n",
            "\n",
            "[10000 rows x 7 columns]\n"
          ]
        }
      ]
    },
    {
      "cell_type": "code",
      "source": [
        "print(data.info())\n",
        "print(data.isnull().sum())\n",
        "print(data.head(25))"
      ],
      "metadata": {
        "colab": {
          "base_uri": "https://localhost:8080/"
        },
        "id": "up5JrQ6sdCIB",
        "outputId": "334da714-840f-4713-db35-21f1a05e1fd1"
      },
      "execution_count": 1063,
      "outputs": [
        {
          "output_type": "stream",
          "name": "stdout",
          "text": [
            "<class 'pandas.core.frame.DataFrame'>\n",
            "RangeIndex: 10000 entries, 0 to 9999\n",
            "Data columns (total 7 columns):\n",
            " #   Column                  Non-Null Count  Dtype  \n",
            "---  ------                  --------------  -----  \n",
            " 0   User ID                 9799 non-null   float64\n",
            " 1   Heart Rate (BPM)        9600 non-null   float64\n",
            " 2   Blood Oxygen Level (%)  9700 non-null   float64\n",
            " 3   Step Count              9900 non-null   float64\n",
            " 4   Sleep Duration (hours)  9850 non-null   object \n",
            " 5   Activity Level          9800 non-null   object \n",
            " 6   Stress Level            9800 non-null   object \n",
            "dtypes: float64(4), object(3)\n",
            "memory usage: 547.0+ KB\n",
            "None\n",
            "User ID                   201\n",
            "Heart Rate (BPM)          400\n",
            "Blood Oxygen Level (%)    300\n",
            "Step Count                100\n",
            "Sleep Duration (hours)    150\n",
            "Activity Level            200\n",
            "Stress Level              200\n",
            "dtype: int64\n",
            "    User ID  Heart Rate (BPM)  Blood Oxygen Level (%)    Step Count  \\\n",
            "0    4174.0         58.939776               98.809650   5450.390578   \n",
            "1       NaN               NaN               98.532195    727.601610   \n",
            "2    1860.0        247.803052               97.052954   2826.521994   \n",
            "3    2294.0         40.000000               96.894213  13797.338044   \n",
            "4    2130.0         61.950165               98.583797  15679.067648   \n",
            "5    2095.0         96.285938               94.202910  10205.992256   \n",
            "6    4772.0         47.272257               95.389760   3208.781177   \n",
            "7    4092.0         81.733497               95.981343   6051.249857   \n",
            "8    3979.0         93.340338               97.218945   1775.029578   \n",
            "9    3169.0         51.409967               97.272787   7940.021452   \n",
            "10   1466.0        101.914938                     NaN   2987.568640   \n",
            "11   2238.0         73.852941               95.399440   1748.197069   \n",
            "12   1330.0         95.372290               99.152652   6155.837342   \n",
            "13   2482.0         79.062632               99.014913    829.925623   \n",
            "14   3135.0         68.090203               99.729740   8124.135791   \n",
            "15   4444.0         40.000000               99.047725   1449.215895   \n",
            "16   4171.0         58.277963               97.789726   5643.511358   \n",
            "17   3919.0               NaN               96.052853   3488.919508   \n",
            "18   4735.0         98.059249               96.027099   5846.923275   \n",
            "19      NaN         53.930206               96.302569   1976.186392   \n",
            "20   2685.0         74.105003               99.646065   2601.396495   \n",
            "21   4380.0         68.310104                     NaN   1058.374274   \n",
            "22   1769.0         81.267235               96.068161  10503.006243   \n",
            "23   3391.0         76.325520               98.757110    508.838098   \n",
            "24   2515.0         69.424795               99.254951   3306.110412   \n",
            "\n",
            "   Sleep Duration (hours) Activity Level Stress Level  \n",
            "0       7.167235622316564  Highly Active            1  \n",
            "1       6.538239375570314  Highly_Active            5  \n",
            "2                   ERROR  Highly Active            5  \n",
            "3       7.367789630207228          Actve            3  \n",
            "4                     NaN  Highly_Active            6  \n",
            "5       8.378342673824589  Highly_Active           10  \n",
            "6       7.871146008904113     Seddentary            2  \n",
            "7       5.224139066195455      Sedentary            1  \n",
            "8       5.468413771417153     Seddentary            1  \n",
            "9      7.9544989905339145     Seddentary            8  \n",
            "10      7.541956463173237      Sedentary            9  \n",
            "11      4.830161671840198          Actve            1  \n",
            "12      5.814348465914493  Highly_Active           10  \n",
            "13      6.269060283034982      Sedentary          NaN  \n",
            "14      6.444869604525839  Highly_Active            5  \n",
            "15      6.392173806051382         Active            2  \n",
            "16      7.848859015777246     Seddentary           10  \n",
            "17      6.718661172525927     Seddentary            4  \n",
            "18      6.621126995655419     Seddentary            9  \n",
            "19     5.3648491527683895  Highly_Active            5  \n",
            "20      6.751333320225251  Highly Active            9  \n",
            "21      6.456918401449286          Actve            3  \n",
            "22      5.780212383241095          Actve          NaN  \n",
            "23      4.773999479227033     Seddentary    Very High  \n",
            "24       8.41542161341735  Highly Active            1  \n"
          ]
        }
      ]
    },
    {
      "cell_type": "markdown",
      "source": [],
      "metadata": {
        "id": "eJDlhy6FA2h5"
      }
    },
    {
      "cell_type": "markdown",
      "source": [
        "##Data Cleansing-Standarisasi kolom user id\n"
      ],
      "metadata": {
        "id": "IJGQAX0dA4Ov"
      }
    },
    {
      "cell_type": "code",
      "source": [
        "data['User ID'].dtype"
      ],
      "metadata": {
        "colab": {
          "base_uri": "https://localhost:8080/"
        },
        "id": "ZgHe97J9A_if",
        "outputId": "d628511d-706b-4de6-aa41-a2cdd32a60f8"
      },
      "execution_count": 1064,
      "outputs": [
        {
          "output_type": "execute_result",
          "data": {
            "text/plain": [
              "dtype('float64')"
            ]
          },
          "metadata": {},
          "execution_count": 1064
        }
      ]
    },
    {
      "cell_type": "code",
      "source": [
        "#Mengubah tipe data User ID menjadi integer\n",
        "data['User ID'] = data['User ID'].astype('Int64')"
      ],
      "metadata": {
        "id": "fyCAzpt3BpPO"
      },
      "execution_count": 1065,
      "outputs": []
    },
    {
      "cell_type": "code",
      "source": [
        "data['User ID'].dtype"
      ],
      "metadata": {
        "colab": {
          "base_uri": "https://localhost:8080/"
        },
        "id": "NQsQaa_XC6su",
        "outputId": "c02732c5-18de-4135-db81-4997fe7b708f"
      },
      "execution_count": 1066,
      "outputs": [
        {
          "output_type": "execute_result",
          "data": {
            "text/plain": [
              "Int64Dtype()"
            ]
          },
          "metadata": {},
          "execution_count": 1066
        }
      ]
    },
    {
      "cell_type": "markdown",
      "source": [
        "##Data Cleansing-Standarisasi kolom active"
      ],
      "metadata": {
        "id": "cGpa-7P3tHhG"
      }
    },
    {
      "cell_type": "code",
      "source": [
        "print(data['Activity Level'].unique())"
      ],
      "metadata": {
        "colab": {
          "base_uri": "https://localhost:8080/"
        },
        "id": "s93jzx9AIZfg",
        "outputId": "c9c9eb51-e700-4105-fca0-3f981b29fa28"
      },
      "execution_count": 1067,
      "outputs": [
        {
          "output_type": "stream",
          "name": "stdout",
          "text": [
            "['Highly Active' 'Highly_Active' 'Actve' 'Seddentary' 'Sedentary' 'Active'\n",
            " nan]\n"
          ]
        }
      ]
    },
    {
      "cell_type": "code",
      "source": [
        "# Buat kamus mapping untuk mengganti nilai yang salah\n",
        "activity_mapping = {\n",
        "    'Highly_Active': 'Highly Active',\n",
        "    'Highly Active': 'Highly Active',\n",
        "    'Actve': 'Active',\n",
        "    'Active': 'Active',\n",
        "    'Sedentary': 'Sedentary',\n",
        "    'Seddentary': 'Sedentary'\n",
        "}\n",
        "\n",
        "# Terapkan mapping ke kolom Activity Level\n",
        "data['Activity Level'] = data['Activity Level'].replace(activity_mapping)"
      ],
      "metadata": {
        "id": "B1BktbWGtJyn"
      },
      "execution_count": 1068,
      "outputs": []
    },
    {
      "cell_type": "code",
      "source": [
        "print(data['Activity Level'].unique())"
      ],
      "metadata": {
        "colab": {
          "base_uri": "https://localhost:8080/"
        },
        "id": "xuuDxA6SIc6Y",
        "outputId": "18b097eb-a9df-46fa-d564-a666a116afbb"
      },
      "execution_count": 1069,
      "outputs": [
        {
          "output_type": "stream",
          "name": "stdout",
          "text": [
            "['Highly Active' 'Active' 'Sedentary' nan]\n"
          ]
        }
      ]
    },
    {
      "cell_type": "markdown",
      "source": [
        "##Data Cleansing-Standarisasi kolom stress level\n"
      ],
      "metadata": {
        "id": "8aEN2xrTvotJ"
      }
    },
    {
      "cell_type": "code",
      "source": [
        "print(data['Stress Level'].unique())"
      ],
      "metadata": {
        "colab": {
          "base_uri": "https://localhost:8080/"
        },
        "id": "MZSCMh4zIsBg",
        "outputId": "2f88f16b-3dc9-4d86-9de0-da6e4e0aa27e"
      },
      "execution_count": 1070,
      "outputs": [
        {
          "output_type": "stream",
          "name": "stdout",
          "text": [
            "['1' '5' '3' '6' '10' '2' '8' '9' nan '4' 'Very High' '7']\n"
          ]
        }
      ]
    },
    {
      "cell_type": "code",
      "source": [
        "#Mengganti nilai 'Very High' ke '10'\n",
        "data['Stress Level'] = data['Stress Level'].replace({\n",
        "    'Very High': '10'\n",
        "})"
      ],
      "metadata": {
        "id": "oRBTka7QvuLL"
      },
      "execution_count": 1071,
      "outputs": []
    },
    {
      "cell_type": "code",
      "source": [
        "print(data['Stress Level'].unique())"
      ],
      "metadata": {
        "colab": {
          "base_uri": "https://localhost:8080/"
        },
        "id": "VHsHlPBMIuMv",
        "outputId": "b822d670-99f8-43d8-ebf4-5c29294144d1"
      },
      "execution_count": 1072,
      "outputs": [
        {
          "output_type": "stream",
          "name": "stdout",
          "text": [
            "['1' '5' '3' '6' '10' '2' '8' '9' nan '4' '7']\n"
          ]
        }
      ]
    },
    {
      "cell_type": "markdown",
      "source": [
        "##Data Cleansing-Menghapus data kosong kolom user id"
      ],
      "metadata": {
        "id": "SwSw7yzYvGWG"
      }
    },
    {
      "cell_type": "code",
      "source": [
        "print(data['User ID'].isnull().sum())\n",
        "#Menghapus data dengan User ID kosong\n",
        "data = data.dropna(subset=['User ID'])\n",
        "print(f\"Jumlah data setelah dihapus: {len(data)}\")"
      ],
      "metadata": {
        "colab": {
          "base_uri": "https://localhost:8080/"
        },
        "id": "hzCl1knudOmT",
        "outputId": "97a97dde-ee1c-459e-b0e1-2c8e7fa75fb3"
      },
      "execution_count": 1073,
      "outputs": [
        {
          "output_type": "stream",
          "name": "stdout",
          "text": [
            "201\n",
            "Jumlah data setelah dihapus: 9799\n"
          ]
        }
      ]
    },
    {
      "cell_type": "markdown",
      "source": [
        "##Data Cleansing-Deduplikasi data"
      ],
      "metadata": {
        "id": "Xedu00CoxzJq"
      }
    },
    {
      "cell_type": "code",
      "source": [
        "# Cek apakah ada data yang terduplikasi\n",
        "data.duplicated().sum()"
      ],
      "metadata": {
        "colab": {
          "base_uri": "https://localhost:8080/"
        },
        "id": "lBnJZ_1MdqKp",
        "outputId": "3b3d549d-5c5f-4e7c-edbe-c69325c8c3ad"
      },
      "execution_count": 1074,
      "outputs": [
        {
          "output_type": "execute_result",
          "data": {
            "text/plain": [
              "np.int64(0)"
            ]
          },
          "metadata": {},
          "execution_count": 1074
        }
      ]
    },
    {
      "cell_type": "markdown",
      "source": [
        "##Data Enrichment\n"
      ],
      "metadata": {
        "id": "RRP5dpeDytEb"
      }
    },
    {
      "cell_type": "markdown",
      "source": [
        "###Heart Rate"
      ],
      "metadata": {
        "id": "je77Doos1piU"
      }
    },
    {
      "cell_type": "code",
      "source": [
        "data['Heart Rate (BPM)'].isna().sum(), data['Heart Rate (BPM)'].describe()"
      ],
      "metadata": {
        "colab": {
          "base_uri": "https://localhost:8080/"
        },
        "id": "1xQciVmrenXI",
        "outputId": "c74bd847-9ca2-4af5-dca1-5ec36b847b73"
      },
      "execution_count": 1075,
      "outputs": [
        {
          "output_type": "execute_result",
          "data": {
            "text/plain": [
              "(np.int64(394),\n",
              " count    9405.000000\n",
              " mean       76.026305\n",
              " std        19.386211\n",
              " min        40.000000\n",
              " 25%        64.914467\n",
              " 50%        75.208240\n",
              " 75%        85.239576\n",
              " max       296.593970\n",
              " Name: Heart Rate (BPM), dtype: float64)"
            ]
          },
          "metadata": {},
          "execution_count": 1075
        }
      ]
    },
    {
      "cell_type": "code",
      "source": [
        "# Ganti nilai tidak realistis menjadi NaN\n",
        "data.loc[(data['Heart Rate (BPM)'] < 40) | (data['Heart Rate (BPM)'] > 200), 'Heart Rate (BPM)'] = np.nan"
      ],
      "metadata": {
        "id": "sf-UBTSmf8TF"
      },
      "execution_count": 1076,
      "outputs": []
    },
    {
      "cell_type": "code",
      "source": [
        "# Mengisi nilai NaN dengan median\n",
        "median_heart_rate = data['Heart Rate (BPM)'].median()\n",
        "data['Heart Rate (BPM)'] = data['Heart Rate (BPM)'].fillna(median_heart_rate)"
      ],
      "metadata": {
        "id": "Q3AFhBoj1Oez"
      },
      "execution_count": 1077,
      "outputs": []
    },
    {
      "cell_type": "code",
      "source": [
        "print(data['Heart Rate (BPM)'].isna().sum())\n",
        "print(data['Heart Rate (BPM)'].describe())\n"
      ],
      "metadata": {
        "colab": {
          "base_uri": "https://localhost:8080/"
        },
        "id": "NmoCVMVk1SUz",
        "outputId": "fbe0f681-d559-4f03-b477-4c11a21a64ed"
      },
      "execution_count": 1078,
      "outputs": [
        {
          "output_type": "stream",
          "name": "stdout",
          "text": [
            "0\n",
            "count    9799.000000\n",
            "mean       75.134280\n",
            "std        14.424232\n",
            "min        40.000000\n",
            "25%        65.354005\n",
            "50%        75.134162\n",
            "75%        84.580499\n",
            "max       130.312002\n",
            "Name: Heart Rate (BPM), dtype: float64\n"
          ]
        }
      ]
    },
    {
      "cell_type": "markdown",
      "source": [
        "###Blood Oxygen Level"
      ],
      "metadata": {
        "id": "jKjJZNXv1-Hd"
      }
    },
    {
      "cell_type": "code",
      "source": [
        "data['Blood Oxygen Level (%)'].isna().sum(), data['Blood Oxygen Level (%)'].describe()"
      ],
      "metadata": {
        "colab": {
          "base_uri": "https://localhost:8080/"
        },
        "id": "fnsPY0Xq2U_F",
        "outputId": "3618e0f5-6a6b-494d-cd51-3b4439e9a827"
      },
      "execution_count": 1079,
      "outputs": [
        {
          "output_type": "execute_result",
          "data": {
            "text/plain": [
              "(np.int64(296),\n",
              " count    9503.000000\n",
              " mean       97.844952\n",
              " std         1.730815\n",
              " min        90.791208\n",
              " 25%        96.666721\n",
              " 50%        98.014441\n",
              " 75%        99.374389\n",
              " max       100.000000\n",
              " Name: Blood Oxygen Level (%), dtype: float64)"
            ]
          },
          "metadata": {},
          "execution_count": 1079
        }
      ]
    },
    {
      "cell_type": "code",
      "source": [
        "# Mengisi nilai NaN dengan median\n",
        "median_spo2 = data['Blood Oxygen Level (%)'].median()\n",
        "data['Blood Oxygen Level (%)'] = data['Blood Oxygen Level (%)'].fillna(median_spo2)"
      ],
      "metadata": {
        "id": "BoB1iMq43Mbj"
      },
      "execution_count": 1080,
      "outputs": []
    },
    {
      "cell_type": "code",
      "source": [
        "data['Blood Oxygen Level (%)'].isna().sum(), data['Blood Oxygen Level (%)'].describe()"
      ],
      "metadata": {
        "colab": {
          "base_uri": "https://localhost:8080/"
        },
        "id": "YaxfIfGnJlS9",
        "outputId": "f5f5eece-3804-4706-f309-d09e142e283f"
      },
      "execution_count": 1081,
      "outputs": [
        {
          "output_type": "execute_result",
          "data": {
            "text/plain": [
              "(np.int64(0),\n",
              " count    9799.000000\n",
              " mean       97.850072\n",
              " std         1.704717\n",
              " min        90.791208\n",
              " 25%        96.709280\n",
              " 50%        98.014441\n",
              " 75%        99.326499\n",
              " max       100.000000\n",
              " Name: Blood Oxygen Level (%), dtype: float64)"
            ]
          },
          "metadata": {},
          "execution_count": 1081
        }
      ]
    },
    {
      "cell_type": "markdown",
      "source": [
        "###Step Count"
      ],
      "metadata": {
        "id": "XvEcDy1037wp"
      }
    },
    {
      "cell_type": "code",
      "source": [
        "data['Step Count'].isna().sum(), data['Step Count'].describe()\n"
      ],
      "metadata": {
        "colab": {
          "base_uri": "https://localhost:8080/"
        },
        "id": "OU2ATLbN39r5",
        "outputId": "e18a7dee-9acd-4792-f12b-b1321ce45f53"
      },
      "execution_count": 1082,
      "outputs": [
        {
          "output_type": "execute_result",
          "data": {
            "text/plain": [
              "(np.int64(98),\n",
              " count     9701.000000\n",
              " mean      7002.117395\n",
              " std       6908.154798\n",
              " min          0.910138\n",
              " 25%       2021.265126\n",
              " 50%       4977.574718\n",
              " 75%       9750.114078\n",
              " max      62486.690753\n",
              " Name: Step Count, dtype: float64)"
            ]
          },
          "metadata": {},
          "execution_count": 1082
        }
      ]
    },
    {
      "cell_type": "code",
      "source": [
        "# Mengganti nilai yang tidak wajar dengan NaN (Step Count < 100, Step COunt > 40000))\n",
        "data.loc[(data['Step Count'] < 100) | (data['Step Count'] > 40000), 'Step Count'] = np.nan"
      ],
      "metadata": {
        "id": "59az-pNg4cyK"
      },
      "execution_count": 1083,
      "outputs": []
    },
    {
      "cell_type": "code",
      "source": [
        "# Mengisi nilai NaN dengan median\n",
        "median_steps = data['Step Count'].median()\n",
        "data['Step Count'] = data['Step Count'].fillna(median_steps)\n"
      ],
      "metadata": {
        "id": "xKAh6WNA4igD"
      },
      "execution_count": 1084,
      "outputs": []
    },
    {
      "cell_type": "code",
      "source": [
        "# Mengganti tipe data menjadi integer\n",
        "data['Step Count'] = data['Step Count'].astype('int64')"
      ],
      "metadata": {
        "id": "VMCNKW0jHfyA"
      },
      "execution_count": 1085,
      "outputs": []
    },
    {
      "cell_type": "code",
      "source": [
        "data['Step Count'].isna().sum(),data['Step Count'].describe()"
      ],
      "metadata": {
        "colab": {
          "base_uri": "https://localhost:8080/"
        },
        "id": "CZ-iy0Zd4kj5",
        "outputId": "b47416b3-d62e-4774-d891-5bac7054f264"
      },
      "execution_count": 1086,
      "outputs": [
        {
          "output_type": "execute_result",
          "data": {
            "text/plain": [
              "(np.int64(0),\n",
              " count     9799.000000\n",
              " mean      6925.752934\n",
              " std       6445.071796\n",
              " min        101.000000\n",
              " 25%       2161.000000\n",
              " 50%       5046.000000\n",
              " 75%       9633.000000\n",
              " max      39882.000000\n",
              " Name: Step Count, dtype: float64)"
            ]
          },
          "metadata": {},
          "execution_count": 1086
        }
      ]
    },
    {
      "cell_type": "markdown",
      "source": [
        "###Sleep Duration (Hours)"
      ],
      "metadata": {
        "id": "yiSvprOn5QVZ"
      }
    },
    {
      "cell_type": "code",
      "source": [
        "data['Sleep Duration (hours)'].isna().sum(), data['Sleep Duration (hours)'].describe()"
      ],
      "metadata": {
        "colab": {
          "base_uri": "https://localhost:8080/"
        },
        "id": "SBJFvH1u5VpA",
        "outputId": "ac2862fb-8dbf-49a1-ed1f-859987e9d7bf"
      },
      "execution_count": 1087,
      "outputs": [
        {
          "output_type": "execute_result",
          "data": {
            "text/plain": [
              "(np.int64(145),\n",
              " count      9654\n",
              " unique     9415\n",
              " top       ERROR\n",
              " freq        240\n",
              " Name: Sleep Duration (hours), dtype: object)"
            ]
          },
          "metadata": {},
          "execution_count": 1087
        }
      ]
    },
    {
      "cell_type": "code",
      "source": [
        "# Mengubah tipe data ke numeric dan ganti nilai yang bukan angka dengan NaN\n",
        "data['Sleep Duration (hours)'] = pd.to_numeric(\n",
        "    data['Sleep Duration (hours)'],\n",
        "    errors='coerce'\n",
        ")"
      ],
      "metadata": {
        "id": "30g7RMNx6CSI"
      },
      "execution_count": 1088,
      "outputs": []
    },
    {
      "cell_type": "code",
      "source": [
        "data['Sleep Duration (hours)'].isna().sum(), data['Sleep Duration (hours)'].describe()"
      ],
      "metadata": {
        "colab": {
          "base_uri": "https://localhost:8080/"
        },
        "id": "uU9QFuWr6Ng3",
        "outputId": "eb4ac2bd-ce95-40a7-e1b2-ef054410482e"
      },
      "execution_count": 1089,
      "outputs": [
        {
          "output_type": "execute_result",
          "data": {
            "text/plain": [
              "(np.int64(385),\n",
              " count    9414.000000\n",
              " mean        6.503175\n",
              " std         1.510588\n",
              " min        -0.194453\n",
              " 25%         5.488165\n",
              " 50%         6.501197\n",
              " 75%         7.529543\n",
              " max        12.140233\n",
              " Name: Sleep Duration (hours), dtype: float64)"
            ]
          },
          "metadata": {},
          "execution_count": 1089
        }
      ]
    },
    {
      "cell_type": "code",
      "source": [
        "# Ubah nilai di luar rentang realistis jadi NaN\n",
        "data.loc[(data['Sleep Duration (hours)'] < 2) |\n",
        "         (data['Sleep Duration (hours)'] > 15), 'Sleep Duration (hours)'] = np.nan"
      ],
      "metadata": {
        "id": "v78-zRJJ6UOJ"
      },
      "execution_count": 1090,
      "outputs": []
    },
    {
      "cell_type": "code",
      "source": [
        "# Isi NaN dengan median\n",
        "median_sleep = data['Sleep Duration (hours)'].median()\n",
        "data['Sleep Duration (hours)'] = data['Sleep Duration (hours)'].fillna(median_sleep)"
      ],
      "metadata": {
        "id": "SzkhJxma6VtH"
      },
      "execution_count": 1091,
      "outputs": []
    },
    {
      "cell_type": "code",
      "source": [
        "data['Sleep Duration (hours)'].isna().sum(), data['Sleep Duration (hours)'].describe()"
      ],
      "metadata": {
        "colab": {
          "base_uri": "https://localhost:8080/"
        },
        "id": "-9dBudPq6Zfn",
        "outputId": "ade826d8-fe95-41ea-b2de-25a5df1b227d"
      },
      "execution_count": 1092,
      "outputs": [
        {
          "output_type": "execute_result",
          "data": {
            "text/plain": [
              "(np.int64(0),\n",
              " count    9799.000000\n",
              " mean        6.509886\n",
              " std         1.468938\n",
              " min         2.112415\n",
              " 25%         5.542171\n",
              " 50%         6.503308\n",
              " 75%         7.476247\n",
              " max        12.140233\n",
              " Name: Sleep Duration (hours), dtype: float64)"
            ]
          },
          "metadata": {},
          "execution_count": 1092
        }
      ]
    },
    {
      "cell_type": "markdown",
      "source": [
        "###Activity Level"
      ],
      "metadata": {
        "id": "2BBBECVI6mbX"
      }
    },
    {
      "cell_type": "code",
      "source": [
        "data['Activity Level'].isna().sum(), data['Activity Level'].describe()"
      ],
      "metadata": {
        "colab": {
          "base_uri": "https://localhost:8080/"
        },
        "id": "ka0-Eblh6rAm",
        "outputId": "e246bed2-0a33-4e6b-81b5-0108ff5d6500"
      },
      "execution_count": 1093,
      "outputs": [
        {
          "output_type": "execute_result",
          "data": {
            "text/plain": [
              "(np.int64(197),\n",
              " count          9602\n",
              " unique            3\n",
              " top       Sedentary\n",
              " freq           3251\n",
              " Name: Activity Level, dtype: object)"
            ]
          },
          "metadata": {},
          "execution_count": 1093
        }
      ]
    },
    {
      "cell_type": "code",
      "source": [
        "# Isi dengan nilai paling sering muncul (mode)\n",
        "mode_activity = data['Activity Level'].mode()[0]\n",
        "data['Activity Level'] = data['Activity Level'].fillna(mode_activity)"
      ],
      "metadata": {
        "id": "hNfQjk_X7lLu"
      },
      "execution_count": 1094,
      "outputs": []
    },
    {
      "cell_type": "code",
      "source": [
        "data['Activity Level'].isna().sum(), data['Activity Level'].describe()"
      ],
      "metadata": {
        "colab": {
          "base_uri": "https://localhost:8080/"
        },
        "id": "L2XQlGIF7mY2",
        "outputId": "4304f11d-4216-415d-b9ec-7e55f0e116ec"
      },
      "execution_count": 1095,
      "outputs": [
        {
          "output_type": "execute_result",
          "data": {
            "text/plain": [
              "(np.int64(0),\n",
              " count          9799\n",
              " unique            3\n",
              " top       Sedentary\n",
              " freq           3448\n",
              " Name: Activity Level, dtype: object)"
            ]
          },
          "metadata": {},
          "execution_count": 1095
        }
      ]
    },
    {
      "cell_type": "markdown",
      "source": [
        "###Stress Level"
      ],
      "metadata": {
        "id": "E687qnxH72Ad"
      }
    },
    {
      "cell_type": "code",
      "source": [
        "data['Stress Level'].isna().sum(), data['Stress Level'].describe()"
      ],
      "metadata": {
        "colab": {
          "base_uri": "https://localhost:8080/"
        },
        "id": "seFFASab-Jcy",
        "outputId": "7d80de9d-8675-48a8-df79-cb1e4be1a32a"
      },
      "execution_count": 1096,
      "outputs": [
        {
          "output_type": "execute_result",
          "data": {
            "text/plain": [
              "(np.int64(196),\n",
              " count     9603\n",
              " unique      10\n",
              " top          2\n",
              " freq       992\n",
              " Name: Stress Level, dtype: object)"
            ]
          },
          "metadata": {},
          "execution_count": 1096
        }
      ]
    },
    {
      "cell_type": "code",
      "source": [
        "data['Stress Level'].unique()"
      ],
      "metadata": {
        "colab": {
          "base_uri": "https://localhost:8080/"
        },
        "id": "bmdX7Sgx74FW",
        "outputId": "2174d276-f56c-4ea2-9ea7-b03f5f3f2170"
      },
      "execution_count": 1097,
      "outputs": [
        {
          "output_type": "execute_result",
          "data": {
            "text/plain": [
              "array(['1', '5', '3', '6', '10', '2', '8', '9', nan, '4', '7'],\n",
              "      dtype=object)"
            ]
          },
          "metadata": {},
          "execution_count": 1097
        }
      ]
    },
    {
      "cell_type": "code",
      "source": [
        "# Mengubah tipe data ke numeric dan ganti nilai yang bukan angka dengan NaN\n",
        "data['Stress Level'] = pd.to_numeric(\n",
        "    data['Stress Level'],\n",
        "    errors='coerce'\n",
        ")"
      ],
      "metadata": {
        "id": "2nvb4C989GfM"
      },
      "execution_count": 1098,
      "outputs": []
    },
    {
      "cell_type": "code",
      "source": [
        "print(data['Stress Level'].dtype)"
      ],
      "metadata": {
        "colab": {
          "base_uri": "https://localhost:8080/"
        },
        "id": "CWO-cwzz9JqE",
        "outputId": "6c1ccd61-82b6-43ab-8035-b21fb74a2b9b"
      },
      "execution_count": 1099,
      "outputs": [
        {
          "output_type": "stream",
          "name": "stdout",
          "text": [
            "float64\n"
          ]
        }
      ]
    },
    {
      "cell_type": "code",
      "source": [
        "# Isi NaN dengan median\n",
        "median_stressLevel = data['Stress Level'].median()\n",
        "data['Stress Level'] = data['Stress Level'].fillna(median_stressLevel)\n",
        "data['Stress Level'] = data['Stress Level'].astype(int)"
      ],
      "metadata": {
        "id": "7BKLwcOq8GRd"
      },
      "execution_count": 1100,
      "outputs": []
    },
    {
      "cell_type": "code",
      "source": [
        "print(data['Stress Level'].dtype)"
      ],
      "metadata": {
        "colab": {
          "base_uri": "https://localhost:8080/"
        },
        "id": "NzjYmFHW-n8D",
        "outputId": "c615961c-e50a-4a08-a25d-f74a901dc4b8"
      },
      "execution_count": 1101,
      "outputs": [
        {
          "output_type": "stream",
          "name": "stdout",
          "text": [
            "int64\n"
          ]
        }
      ]
    },
    {
      "cell_type": "code",
      "source": [
        "data['Stress Level'].isna().sum(), data['Stress Level'].describe()"
      ],
      "metadata": {
        "colab": {
          "base_uri": "https://localhost:8080/"
        },
        "id": "s8N52OVy-tIG",
        "outputId": "ffce35e6-4735-477b-ba36-e1657e4aa35d"
      },
      "execution_count": 1102,
      "outputs": [
        {
          "output_type": "execute_result",
          "data": {
            "text/plain": [
              "(np.int64(0),\n",
              " count    9799.000000\n",
              " mean        5.475967\n",
              " std         2.852717\n",
              " min         1.000000\n",
              " 25%         3.000000\n",
              " 50%         5.000000\n",
              " 75%         8.000000\n",
              " max        10.000000\n",
              " Name: Stress Level, dtype: float64)"
            ]
          },
          "metadata": {},
          "execution_count": 1102
        }
      ]
    },
    {
      "cell_type": "markdown",
      "source": [
        "##Hasil"
      ],
      "metadata": {
        "id": "x_oafp4g-74X"
      }
    },
    {
      "cell_type": "code",
      "source": [
        "print(data)"
      ],
      "metadata": {
        "colab": {
          "base_uri": "https://localhost:8080/"
        },
        "id": "GkCrs7x--_Ea",
        "outputId": "57d39cb6-7dc5-40bb-e0af-6210d6f02c90"
      },
      "execution_count": 1103,
      "outputs": [
        {
          "output_type": "stream",
          "name": "stdout",
          "text": [
            "      User ID  Heart Rate (BPM)  Blood Oxygen Level (%)  Step Count  \\\n",
            "0        4174         58.939776               98.809650        5450   \n",
            "2        1860         75.134162               97.052954        2826   \n",
            "3        2294         40.000000               96.894213       13797   \n",
            "4        2130         61.950165               98.583797       15679   \n",
            "5        2095         96.285938               94.202910       10205   \n",
            "...       ...               ...                     ...         ...   \n",
            "9995     1524         78.819386               98.931927        2948   \n",
            "9996     4879         48.632659               95.773035        4725   \n",
            "9997     2624         73.834442               97.945874        2571   \n",
            "9998     4907         75.134162               98.401058        3364   \n",
            "9999     4113         70.063864               98.475606         544   \n",
            "\n",
            "      Sleep Duration (hours) Activity Level  Stress Level  \n",
            "0                   7.167236  Highly Active             1  \n",
            "2                   6.503308  Highly Active             5  \n",
            "3                   7.367790         Active             3  \n",
            "4                   6.503308  Highly Active             6  \n",
            "5                   8.378343  Highly Active            10  \n",
            "...                      ...            ...           ...  \n",
            "9995                7.402749         Active             7  \n",
            "9996                6.382166      Sedentary             2  \n",
            "9997                6.916549      Sedentary             4  \n",
            "9998                5.691234         Active             8  \n",
            "9999                5.691001         Active             5  \n",
            "\n",
            "[9799 rows x 7 columns]\n"
          ]
        }
      ]
    },
    {
      "cell_type": "code",
      "source": [
        "print(data.info())\n",
        "print(data.isnull().sum())\n",
        "print(data.head(25))"
      ],
      "metadata": {
        "colab": {
          "base_uri": "https://localhost:8080/"
        },
        "id": "8Hg9VKbA_Jt1",
        "outputId": "07dcb304-33f0-4bd0-89bf-cf6fcf659520"
      },
      "execution_count": 1104,
      "outputs": [
        {
          "output_type": "stream",
          "name": "stdout",
          "text": [
            "<class 'pandas.core.frame.DataFrame'>\n",
            "Index: 9799 entries, 0 to 9999\n",
            "Data columns (total 7 columns):\n",
            " #   Column                  Non-Null Count  Dtype  \n",
            "---  ------                  --------------  -----  \n",
            " 0   User ID                 9799 non-null   Int64  \n",
            " 1   Heart Rate (BPM)        9799 non-null   float64\n",
            " 2   Blood Oxygen Level (%)  9799 non-null   float64\n",
            " 3   Step Count              9799 non-null   int64  \n",
            " 4   Sleep Duration (hours)  9799 non-null   float64\n",
            " 5   Activity Level          9799 non-null   object \n",
            " 6   Stress Level            9799 non-null   int64  \n",
            "dtypes: Int64(1), float64(3), int64(2), object(1)\n",
            "memory usage: 622.0+ KB\n",
            "None\n",
            "User ID                   0\n",
            "Heart Rate (BPM)          0\n",
            "Blood Oxygen Level (%)    0\n",
            "Step Count                0\n",
            "Sleep Duration (hours)    0\n",
            "Activity Level            0\n",
            "Stress Level              0\n",
            "dtype: int64\n",
            "    User ID  Heart Rate (BPM)  Blood Oxygen Level (%)  Step Count  \\\n",
            "0      4174         58.939776               98.809650        5450   \n",
            "2      1860         75.134162               97.052954        2826   \n",
            "3      2294         40.000000               96.894213       13797   \n",
            "4      2130         61.950165               98.583797       15679   \n",
            "5      2095         96.285938               94.202910       10205   \n",
            "6      4772         47.272257               95.389760        3208   \n",
            "7      4092         81.733497               95.981343        6051   \n",
            "8      3979         93.340338               97.218945        1775   \n",
            "9      3169         51.409967               97.272787        7940   \n",
            "10     1466        101.914938               98.014441        2987   \n",
            "11     2238         73.852941               95.399440        1748   \n",
            "12     1330         95.372290               99.152652        6155   \n",
            "13     2482         79.062632               99.014913         829   \n",
            "14     3135         68.090203               99.729740        8124   \n",
            "15     4444         40.000000               99.047725        1449   \n",
            "16     4171         58.277963               97.789726        5643   \n",
            "17     3919         75.134162               96.052853        3488   \n",
            "18     4735         98.059249               96.027099        5846   \n",
            "20     2685         74.105003               99.646065        2601   \n",
            "21     4380         68.310104               98.014441        1058   \n",
            "22     1769         81.267235               96.068161       10503   \n",
            "23     3391         76.325520               98.757110         508   \n",
            "24     2515         69.424795               99.254951        3306   \n",
            "25     4485         84.586625               99.024687        4173   \n",
            "26     3853         64.627044               99.789599        1520   \n",
            "\n",
            "    Sleep Duration (hours) Activity Level  Stress Level  \n",
            "0                 7.167236  Highly Active             1  \n",
            "2                 6.503308  Highly Active             5  \n",
            "3                 7.367790         Active             3  \n",
            "4                 6.503308  Highly Active             6  \n",
            "5                 8.378343  Highly Active            10  \n",
            "6                 7.871146      Sedentary             2  \n",
            "7                 5.224139      Sedentary             1  \n",
            "8                 5.468414      Sedentary             1  \n",
            "9                 7.954499      Sedentary             8  \n",
            "10                7.541956      Sedentary             9  \n",
            "11                4.830162         Active             1  \n",
            "12                5.814348  Highly Active            10  \n",
            "13                6.269060      Sedentary             5  \n",
            "14                6.444870  Highly Active             5  \n",
            "15                6.392174         Active             2  \n",
            "16                7.848859      Sedentary            10  \n",
            "17                6.718661      Sedentary             4  \n",
            "18                6.621127      Sedentary             9  \n",
            "20                6.751333  Highly Active             9  \n",
            "21                6.456918         Active             3  \n",
            "22                5.780212         Active             5  \n",
            "23                4.773999      Sedentary            10  \n",
            "24                8.415422  Highly Active             1  \n",
            "25                9.169584      Sedentary             9  \n",
            "26                6.866753      Sedentary             2  \n"
          ]
        }
      ]
    }
  ]
}